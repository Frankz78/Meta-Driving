{
 "cells": [
  {
   "cell_type": "code",
   "execution_count": 1,
   "id": "06391c79-fede-4f7b-8864-36b59c40ea81",
   "metadata": {},
   "outputs": [],
   "source": [
    "import socket\n",
    "\n",
    "\n",
    "class UDPClient:\n",
    "    def __init__(self, server_ip: str = '127.0.0.1', server_port: int = 12000):\n",
    "        self.BUFSIZE = 2048\n",
    "        self.server_ip = server_ip\n",
    "        self.server_port = server_port\n",
    "        self.clientSocket = socket.socket(socket.AF_INET, socket.SOCK_DGRAM)\n",
    "    \n",
    "    def receive(self) -> str:\n",
    "        # server_address is useless here\n",
    "        recv_raw_data, server_address = self.clientSocket.recvfrom(self.BUFSIZE)\n",
    "        print(\"Receive message is: \", recv_raw_data.decode('utf-8'))\n",
    "        return recv_raw_data.decode('utf-8')\n",
    "    \n",
    "    def send(self, send_data: str):\n",
    "        if not type(send_data) == str:\n",
    "            send_data = str(send_data)\n",
    "            \n",
    "        self.clientSocket.sendto(send_data.encode('utf-8'), (self.server_ip, self.server_port))\n",
    "        \n",
    "    def destroy(self):\n",
    "        self.clientSocket.close()"
   ]
  },
  {
   "cell_type": "code",
   "execution_count": 2,
   "id": "eba14926-c964-47ae-9339-7cc50be195df",
   "metadata": {},
   "outputs": [],
   "source": [
    "udp_client = UDPClient()"
   ]
  },
  {
   "cell_type": "code",
   "execution_count": 3,
   "id": "00eafde3-f81c-430a-aee9-19f7b10e625d",
   "metadata": {},
   "outputs": [
    {
     "name": "stdout",
     "output_type": "stream",
     "text": [
      "Receive message is:  123\n"
     ]
    }
   ],
   "source": [
    "udp_client.send('2_client')\n",
    "recv_data = udp_client.receive()"
   ]
  },
  {
   "cell_type": "code",
   "execution_count": null,
   "id": "4977661f-0cf3-4303-bd3c-f41f0922d1f5",
   "metadata": {},
   "outputs": [],
   "source": [
    "udp_client.destroy()"
   ]
  }
 ],
 "metadata": {
  "kernelspec": {
   "display_name": "tcp",
   "language": "python",
   "name": "tcp"
  },
  "language_info": {
   "codemirror_mode": {
    "name": "ipython",
    "version": 3
   },
   "file_extension": ".py",
   "mimetype": "text/x-python",
   "name": "python",
   "nbconvert_exporter": "python",
   "pygments_lexer": "ipython3",
   "version": "3.7.10"
  }
 },
 "nbformat": 4,
 "nbformat_minor": 5
}
