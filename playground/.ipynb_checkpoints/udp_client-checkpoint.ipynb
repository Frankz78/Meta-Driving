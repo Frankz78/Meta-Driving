{
 "cells": [
  {
   "cell_type": "code",
   "execution_count": 6,
   "id": "652f6c29-f589-446f-bbd5-2b8947b30931",
   "metadata": {},
   "outputs": [],
   "source": [
    "import socket\n",
    "\n",
    "\n",
    "class UDPClient:\n",
    "    def __init__(self, server_ip: str = '127.0.0.1', server_port: int = 12000):\n",
    "        self.BUFSIZE = 2048\n",
    "        self.server_ip = server_ip\n",
    "        self.server_port = server_port\n",
    "        self.clientSocket = socket.socket(socket.AF_INET, socket.SOCK_DGRAM)\n",
    "    \n",
    "    def receive(self) -> str:\n",
    "        # server_address is useless here\n",
    "        recv_raw_data, server_address = self.clientSocket.recvfrom(self.BUFSIZE)\n",
    "        print(\"Receive message is: \", recv_raw_data.decode('utf-8'))\n",
    "        return recv_raw_data.decode('utf-8')\n",
    "    \n",
    "    def send(self, send_data: str):\n",
    "        if not type(send_data) == str:\n",
    "            send_data = str(send_data)\n",
    "            \n",
    "        self.clientSocket.sendto(send_data.encode('utf-8'), (self.server_ip, self.server_port))\n",
    "        \n",
    "    def destroy(self):\n",
    "        self.clientSocket.close()"
   ]
  },
  {
   "cell_type": "code",
   "execution_count": 7,
   "id": "67ba3ca8-4cac-494d-bfc1-523abcf8b05b",
   "metadata": {},
   "outputs": [],
   "source": [
    "udp_client = UDPClient(server_port=12001)"
   ]
  },
  {
   "cell_type": "code",
   "execution_count": 17,
   "id": "e1b3e8a3-43d3-4a0e-a16c-ed7f9a6152b4",
   "metadata": {},
   "outputs": [],
   "source": [
    "udp_client.send('456')\n",
    "#recv_data = udp_client.receive()"
   ]
  },
  {
   "cell_type": "code",
   "execution_count": 4,
   "id": "fd21a78b-b56f-420a-aa1a-52d4a86b125e",
   "metadata": {},
   "outputs": [],
   "source": [
    "udp_client.destroy()"
   ]
  }
 ],
 "metadata": {
  "kernelspec": {
   "display_name": "tcp",
   "language": "python",
   "name": "tcp"
  },
  "language_info": {
   "codemirror_mode": {
    "name": "ipython",
    "version": 3
   },
   "file_extension": ".py",
   "mimetype": "text/x-python",
   "name": "python",
   "nbconvert_exporter": "python",
   "pygments_lexer": "ipython3",
   "version": "3.7.10"
  }
 },
 "nbformat": 4,
 "nbformat_minor": 5
}
