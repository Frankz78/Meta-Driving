{
 "cells": [
  {
   "cell_type": "code",
   "execution_count": 1,
   "id": "1a721c6a-8d1a-46ea-945e-df26ea17e5de",
   "metadata": {},
   "outputs": [],
   "source": [
    "import socket\n",
    "\n",
    "\n",
    "class UDPServer:\n",
    "    def __init__(self, server_port: int = 12000):\n",
    "        self.BUFSIZE = 2048\n",
    "        self.server_port = server_port\n",
    "        self.serverSocket = socket.socket(socket.AF_INET, socket.SOCK_DGRAM)\n",
    "        self.serverSocket.bind(('', self.server_port))\n",
    "        self.client_address = None\n",
    "        print('This server is ready to receive')\n",
    "        \n",
    "    def receive(self) -> str:\n",
    "        recv_raw_data, self.client_address = self.serverSocket.recvfrom(self.BUFSIZE)\n",
    "        print(\"Receive message: \", recv_raw_data.decode('utf-8'))\n",
    "        return recv_raw_data.decode('utf-8')\n",
    "    \n",
    "    def send(self, send_data: str):\n",
    "        if not type(send_data) == str:\n",
    "            send_data = str(send_data)\n",
    "            \n",
    "        self.serverSocket.sendto(send_data.encode('utf-8'), self.client_address)\n",
    "\n",
    "    def destroy(self):\n",
    "        self.serverSocket.close()"
   ]
  },
  {
   "cell_type": "code",
   "execution_count": 2,
   "id": "0dcb81d8-5742-4f9d-8899-bbc3b922588f",
   "metadata": {},
   "outputs": [
    {
     "name": "stdout",
     "output_type": "stream",
     "text": [
      "This server is ready to receive\n",
      "This server is ready to receive\n",
      "This server is ready to receive\n"
     ]
    }
   ],
   "source": [
    "udp_server_0 = UDPServer(server_port=12000)\n",
    "udp_server_1 = UDPServer(server_port=12001)\n",
    "udp_server_2 = UDPServer(server_port=12002)\n",
    "udp_server_3 = UDPServer(server_port=12003)\n",
    "udp_server_4 = UDPServer(server_port=12004)\n",
    "udp_server_5 = UDPServer(server_port=12005)"
   ]
  },
  {
   "cell_type": "code",
   "execution_count": null,
   "id": "4c9aee9a-8032-4eb3-9b3d-1805b65f5777",
   "metadata": {},
   "outputs": [],
   "source": [
    "try:\n",
    "    while True:\n",
    "        udp_server_0.receive()\n",
    "        udp_server_1.receive()\n",
    "        udp_server_2.receive()\n",
    "        udp_server_3.receive()\n",
    "        udp_server_4.receive()\n",
    "        udp_server_5.receive()\n",
    "        print(\"==============================\")\n",
    "        #udp_server.send('123')\n",
    "except:\n",
    "    pass"
   ]
  },
  {
   "cell_type": "code",
   "execution_count": null,
   "id": "215cf3cf-2dd4-4eb0-9644-99ef96780c9f",
   "metadata": {},
   "outputs": [],
   "source": [
    "udp_server.destroy()"
   ]
  }
 ],
 "metadata": {
  "kernelspec": {
   "display_name": "tcp",
   "language": "python",
   "name": "tcp"
  },
  "language_info": {
   "codemirror_mode": {
    "name": "ipython",
    "version": 3
   },
   "file_extension": ".py",
   "mimetype": "text/x-python",
   "name": "python",
   "nbconvert_exporter": "python",
   "pygments_lexer": "ipython3",
   "version": "3.7.10"
  }
 },
 "nbformat": 4,
 "nbformat_minor": 5
}
